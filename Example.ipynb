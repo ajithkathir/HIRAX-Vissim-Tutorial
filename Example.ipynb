{
 "cells": [
  {
   "cell_type": "markdown",
   "id": "57d69a23-07d6-42ea-b0f6-11a134684ca0",
   "metadata": {},
   "source": [
    "**Klerefontein Visibility Simulator**\n",
    "\n",
    "This is an exmaple notebook to generate two-element interferometer visibilities for HIRAX. \n",
    " "
   ]
  },
  {
   "cell_type": "code",
   "execution_count": 8,
   "id": "101653e9-53ad-4d44-87a5-da60196e58ce",
   "metadata": {},
   "outputs": [],
   "source": [
    "#Import libraries \n",
    "\n",
    "from lib import *\n",
    "import h5py"
   ]
  },
  {
   "cell_type": "markdown",
   "id": "a4e63420-fe4f-4dd5-bf95-a980e8b0e5e2",
   "metadata": {},
   "source": [
    "* Read the given HDF5 file to reduce computation time since making the input image for the simulation is the time taking part. \n",
    "\n",
    "* I created a sky map for today of the shape **(timestamps, freq_chans, npix, npix)**. Generated at HIRAX location and observing frequency. And provided the CST simulated beam of the shape **(freq_chans, npix, npix)**.\n",
    "\n",
    "* You can create your own sky map with your parameters using \"createGSMsky\" function provided in lib.py file. \n"
   ]
  },
  {
   "cell_type": "code",
   "execution_count": 9,
   "id": "8dc08a4b-9714-40ac-aedc-ffd1454919c8",
   "metadata": {},
   "outputs": [
    {
     "name": "stdout",
     "output_type": "stream",
     "text": [
      "Contents of the file:\n",
      "['GSM_sky']\n",
      "Sky data shape: (120, 100, 151, 151)\n",
      "Contents of the file:\n",
      "['cst_beam']\n",
      "Beam data shape: (100, 151, 151)\n"
     ]
    }
   ],
   "source": [
    "# Open the HDF5 file in read mode\n",
    "with h5py.File('GSM_sky.h5', 'r') as f:\n",
    "    # List all groups and datasets in the file\n",
    "    print(\"Contents of the file:\")\n",
    "    print(list(f.keys()))\n",
    "\n",
    "    # Access a specific dataset\n",
    "    sky = f['GSM_sky'][:] \n",
    "    print(\"Sky data shape:\", sky.shape)\n",
    "    \n",
    "with h5py.File('CST_beam.h5', 'r') as f:\n",
    "    # List all groups and datasets in the file\n",
    "    print(\"Contents of the file:\")\n",
    "    print(list(f.keys()))\n",
    "    beam = f['cst_beam'][:]\n",
    "    # Read the data\n",
    "    #sky = dataset[:]\n",
    "    \n",
    "    print(\"Beam data shape:\", beam.shape)\n",
    "    "
   ]
  },
  {
   "cell_type": "markdown",
   "id": "8cf820a3-033d-4a63-a029-eb627d117def",
   "metadata": {},
   "source": [
    "---\n",
    "                The drifting sky\n"
   ]
  },
  {
   "cell_type": "markdown",
   "id": "186da77b-fa0d-4699-8ef9-d05344d59a85",
   "metadata": {},
   "source": [
    "<img src=\"GSM_sky.gif\" width=\"500\" align=\"center\">"
   ]
  },
  {
   "cell_type": "markdown",
   "id": "1b7c731b-de0b-45dd-92db-5c3f7e1c1a82",
   "metadata": {},
   "source": [
    "---\n",
    "Once the input sky image is ready, define simulation parameters. "
   ]
  },
  {
   "cell_type": "code",
   "execution_count": 3,
   "id": "c777256d-76f5-4513-a8cd-7295ebf5d009",
   "metadata": {},
   "outputs": [],
   "source": [
    "start_freq =  400 #in MHz\n",
    "center_freq = 600 #in MHz\n",
    "end_freq = 800 #in MHz\n",
    "\n",
    "n_chan = 100 #no of channels \n",
    "\n",
    "chan_width = '1MHz'\n",
    "\n",
    "latitude = -1*(30+43/60+16/3600) #in degrees\n",
    "\n",
    "RA = '10h00m00.0s' #should be strings (sims not dependent on these)\n",
    "DEC = '-31d00m00.0s' #should be strings\n",
    "\n",
    "imsize = 151 #pixels\n",
    "image_angular_resolution = '1deg'"
   ]
  },
  {
   "cell_type": "markdown",
   "id": "9ac285ce-3275-4782-b7d3-1ee40a31ae92",
   "metadata": {},
   "source": [
    "---\n",
    "Define antenna location in ENU (East North Up) coordinates [E,N.U]\n",
    "\n",
    "For now, we will stick to two-element array. We can go for bigger array but the input sky image need to have more resolution (smaller then 1deg we created). "
   ]
  },
  {
   "cell_type": "markdown",
   "id": "d4ff2044-f7c7-40d7-a0be-47528b05a158",
   "metadata": {},
   "source": [
    "For the given sample sky image, stick to baseline length of <20 metres. "
   ]
  },
  {
   "cell_type": "code",
   "execution_count": 4,
   "id": "2e783d10-b222-4fbd-8d14-4479f32e54a8",
   "metadata": {},
   "outputs": [],
   "source": [
    "array_coord = np.array([[3,0,0],\n",
    "                       [-3,0,0]])"
   ]
  },
  {
   "cell_type": "markdown",
   "id": "caa3c123-2874-4084-b73d-c7ff4ad126dc",
   "metadata": {},
   "source": [
    "Now, we proceed to main simulation step. \n",
    "\n",
    "* You can use 'simulate' function to simulate a snapshot visibility.\n",
    "\n",
    "We will proceed with driftscan simulation (using simulate_drift) for 12hrs with 6min time sampling."
   ]
  },
  {
   "cell_type": "code",
   "execution_count": 7,
   "id": "e90bbbcc-7aaa-449f-a653-a70a89b6d02e",
   "metadata": {},
   "outputs": [],
   "source": [
    "#set a directory name where files will be created and eventually deleted after operations\n",
    "dirname='test' "
   ]
  },
  {
   "cell_type": "markdown",
   "id": "44e26773-5a07-4584-86a4-d8f5cc1ecb1c",
   "metadata": {},
   "source": [
    "**Important note:**\n",
    "The computation time mostly depends on ntime parameter. Slice through the 'sky' array like sky[10:15]\n",
    "to reduce computation time. It roughly takes 7 seconds per time stamp.\n"
   ]
  },
  {
   "cell_type": "code",
   "execution_count": null,
   "id": "1b8c8d21-9161-4277-9435-17192cf1b9e7",
   "metadata": {},
   "outputs": [],
   "source": [
    "#wait for completion... \n",
    "V1 = simulate_drift(sky,beam,array_coord,latitude,start_freq,\n",
    "                    chan_width,n_chan,RA,DEC,image_angular_resolution,\n",
    "                    imsize,dirname)"
   ]
  },
  {
   "cell_type": "code",
   "execution_count": 11,
   "id": "5c48b4fc-46d5-4f46-a791-e43ef4b4f54f",
   "metadata": {},
   "outputs": [
    {
     "data": {
      "text/plain": [
       "(120, 100, 6)"
      ]
     },
     "execution_count": 11,
     "metadata": {},
     "output_type": "execute_result"
    }
   ],
   "source": [
    "#Check the shape of the output visibiity array (ntime,nchan,nbaseline)\n",
    "V1.shape"
   ]
  },
  {
   "cell_type": "markdown",
   "id": "7f2d5b21-2ed8-4e3a-a8d6-49916ff901e7",
   "metadata": {},
   "source": [
    "---\n",
    "Visualise the above array, or use the 'plot_waterfall' function to make a simple plot.\n"
   ]
  },
  {
   "cell_type": "code",
   "execution_count": 6,
   "id": "837750ef-eb2b-4ba6-893f-cc7e5c89a114",
   "metadata": {},
   "outputs": [
    {
     "name": "stdout",
     "output_type": "stream",
     "text": [
      "Plotting baseline index.. 0\n"
     ]
    },
    {
     "data": {
      "image/png": "[encoded data removed]",
      "text/plain": [
       "<Figure size 640x480 with 2 Axes>"
      ]
     },
     "metadata": {},
     "output_type": "display_data"
    }
   ],
   "source": [
    "plot_waterfall(V1,(0,1),array_coord)"
   ]
  }
 ],
 "metadata": {
  "kernelspec": {
   "display_name": "CASA-6",
   "language": "python",
   "name": "casa6"
  },
  "language_info": {
   "codemirror_mode": {
    "name": "ipython",
    "version": 3
   },
   "file_extension": ".py",
   "mimetype": "text/x-python",
   "name": "python",
   "nbconvert_exporter": "python",
   "pygments_lexer": "ipython3",
   "version": "3.8.2"
  }
 },
 "nbformat": 4,
 "nbformat_minor": 5
}
